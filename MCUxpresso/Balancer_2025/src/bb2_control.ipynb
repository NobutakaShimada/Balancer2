{
 "cells": [
  {
   "cell_type": "code",
   "execution_count": null,
   "metadata": {},
   "outputs": [],
   "source": [
    "import numpy as np\n",
    "import matplotlib.pyplot as plt\n",
    "from control import matlab\n",
    "from scipy import linalg\n",
    "\n",
    "### パラメータ設定 ###\n",
    "Rw = 0.021 # 車輪半径\n",
    "l = 0.135 # 重心長さ\n",
    "M = 0.21 # 本体重量\n",
    "m = 0.0053 # 車輪重量\n",
    "Jb = M*l**2 # 本体慣性モーメント\n",
    "Jw = m*Rw**2/2.0 # 車輪慣性モーメント\n",
    "fm = 4.91e-7 # モータ軸粘性摩擦係数\n",
    "g = 9.81 # 重力加速度\n",
    "n = 21 # ギア比\n",
    "Kt = 1.15e-3 # モータトルク係数\n",
    "\n",
    "### 状態方程式の記述 ###\n",
    "E = np.array([[(m + M)*Rw**2 + Jw, M*Rw*l],\n",
    "            [M*Rw*l, M*l*l + Jb]])\n",
    "F = np.array([[2*fm, -2*fm],\n",
    "    [-2*fm, 2*fm]])\n",
    "G = np.array([[0, 0],\n",
    "    [0, -M*g*l]])\n",
    "H = np.array([[-2*n*Kt], [2*Kt]])\n",
    "\n",
    "A1 = np.hstack((np.zeros((2, 2)), np.eye(2)))\n",
    "A2 = np.hstack((-np.dot(linalg.inv(E), G), -np.dot(linalg.inv(E), F)))\n",
    "A = np.vstack((A1, A2))\n",
    "B = np.vstack((np.zeros((2, 1)), np.dot(linalg.inv(E), H)))\n",
    "C = np.eye(4)\n",
    "\n",
    "# A行列の固有値を確認\n",
    "EigVaA, EigVeA = linalg.eig(A)\n",
    "print(\"EigenValue (A): \", EigVaA)\n",
    "\n",
    "### ゲイン設定，どちらかを用いる ###\n",
    "# ----------------------------------\n",
    "# 極配置\n",
    "p = [-...+...j, -...-...j, -...+...j, -...-...j]\n",
    "# 左2つ・右2つがそれぞれペアの共役複素数になるように設定（例：[-1+1j, -1-1j, -2+2j, -2-2j]）\n",
    "K = np.array(matlab.place(A, B, p)) # ゲイン\n",
    "\n",
    "# 最適制御\n",
    "Q = np.diag([..., ..., ..., ...])\n",
    "R = np.array([...])\n",
    "P = linalg.solve_continuous_are(A, B, Q, R)\n",
    "K = np.dot(B.T, P)/R # ゲイン\n",
    "\n",
    "print(\"Gain: \", K)\n",
    "# ----------------------------------\n",
    "\n",
    "# A行列の固有値を確認\n",
    "EigVaABK, EigVeABK = linalg.eig(A - np.dot(B, K))\n",
    "print(\"EigenValue (A-BK): \", EigVaABK)"
   ]
  },
  {
   "cell_type": "code",
   "execution_count": null,
   "metadata": {},
   "outputs": [],
   "source": [
    "### 時系列にそって状態を計算 ###\n",
    "x = np.array([[0.0], [0.1], [0.0], [0.0]]) # 現在の状態\n",
    "start = 0.0\n",
    "dt = 1e-4\n",
    "tf = 5.0\n",
    "\n",
    "X = np.zeros((int(tf/dt)+1, 6)) # 保存用変数\n",
    "X[0, :] = np.hstack((np.array([0.0]), x.T[0], np.array([0.0])))\n",
    "count = 1\n",
    "\n",
    "for t in [ x*dt for x in range(int(tf/dt))] :\n",
    "    u = -np.dot(K, x)\n",
    "    xdot = np.dot(A, x) + np.dot(B, u)\n",
    "    x = x + np.dot(xdot, dt)\n",
    "    X[count, :] = np.hstack((np.array([t]), x.T[0], u[0]))\n",
    "    count += 1\n",
    "\n",
    "# データの最大値の表示\n",
    "MaxTheta = np.max(np.abs(X[:, 1]))\n",
    "MaxPsi = np.max(np.abs(X[:, 2]))\n",
    "MaxU = np.max(np.abs(X[:, 5]))\n",
    "print(\"Maximum Wheel Angle: \", MaxTheta, \"[rad]\")\n",
    "print(\"Maximum Body Angle: \", MaxPsi, \"[rad]\")\n",
    "print(\"Maximum Input: \", MaxU, \"[A]\")"
   ]
  },
  {
   "cell_type": "code",
   "execution_count": null,
   "metadata": {},
   "outputs": [],
   "source": [
    "### プロット ###\n",
    "# Wheel Angle\n",
    "plt.plot(X[:, 0], X[:, 1])\n",
    "plt.xlabel(\"Time [s]\")\n",
    "plt.ylabel(r\"Wheel Angle $\\theta$ [rad]\")\n",
    "plt.grid(which=\"major\", color=\"grey\", linestyle=\"--\")\n",
    "plt.savefig(\"WheelPlot.png\")\n",
    "plt.show()"
   ]
  },
  {
   "cell_type": "code",
   "execution_count": null,
   "metadata": {},
   "outputs": [],
   "source": [
    "# Body Angle\n",
    "plt.plot(X[:, 0], X[:, 2])\n",
    "plt.xlabel(\"Time [s]\")\n",
    "plt.ylabel(r\"Body Angle $\\psi$ [rad]\")\n",
    "plt.grid(which=\"major\", color=\"grey\", linestyle=\"--\")\n",
    "plt.savefig(\"BodyPlot.png\")\n",
    "plt.show()"
   ]
  },
  {
   "cell_type": "code",
   "execution_count": null,
   "metadata": {},
   "outputs": [],
   "source": []
  }
 ],
 "metadata": {
  "kernelspec": {
   "display_name": "Python 3",
   "language": "python",
   "name": "python3"
  },
  "language_info": {
   "codemirror_mode": {
    "name": "ipython",
    "version": 3
   },
   "file_extension": ".py",
   "mimetype": "text/x-python",
   "name": "python",
   "nbconvert_exporter": "python",
   "pygments_lexer": "ipython3",
   "version": "3.7.3"
  }
 },
 "nbformat": 4,
 "nbformat_minor": 2
}
